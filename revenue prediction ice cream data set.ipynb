{
 "cells": [
  {
   "cell_type": "markdown",
   "id": "b208c620",
   "metadata": {},
   "source": [
    "# Revenue Prediction - Ice cream Data"
   ]
  },
  {
   "cell_type": "code",
   "execution_count": null,
   "id": "7ca9b4ef",
   "metadata": {},
   "outputs": [],
   "source": [
    "## We are trying to create a program that can predict the revenue for the dependant Variable Temperature by using linear Regression"
   ]
  },
  {
   "cell_type": "code",
   "execution_count": null,
   "id": "ef202b09",
   "metadata": {},
   "outputs": [],
   "source": [
    "import pandas as pd\n",
    "import numpy as np\n",
    "import matplotlib.pyplot as plt\n",
    "import seaborn as sns"
   ]
  },
  {
   "cell_type": "code",
   "execution_count": 2,
   "id": "0f413f93",
   "metadata": {},
   "outputs": [],
   "source": [
    "df=pd.read_csv('D:/python learning/IceCreamData.csv')"
   ]
  },
  {
   "cell_type": "code",
   "execution_count": 3,
   "id": "7e5b83b6",
   "metadata": {},
   "outputs": [
    {
     "data": {
      "text/html": [
       "<div>\n",
       "<style scoped>\n",
       "    .dataframe tbody tr th:only-of-type {\n",
       "        vertical-align: middle;\n",
       "    }\n",
       "\n",
       "    .dataframe tbody tr th {\n",
       "        vertical-align: top;\n",
       "    }\n",
       "\n",
       "    .dataframe thead th {\n",
       "        text-align: right;\n",
       "    }\n",
       "</style>\n",
       "<table border=\"1\" class=\"dataframe\">\n",
       "  <thead>\n",
       "    <tr style=\"text-align: right;\">\n",
       "      <th></th>\n",
       "      <th>Temperature</th>\n",
       "      <th>Revenue</th>\n",
       "    </tr>\n",
       "  </thead>\n",
       "  <tbody>\n",
       "    <tr>\n",
       "      <th>0</th>\n",
       "      <td>24.566884</td>\n",
       "      <td>534.799028</td>\n",
       "    </tr>\n",
       "    <tr>\n",
       "      <th>1</th>\n",
       "      <td>26.005191</td>\n",
       "      <td>625.190122</td>\n",
       "    </tr>\n",
       "    <tr>\n",
       "      <th>2</th>\n",
       "      <td>27.790554</td>\n",
       "      <td>660.632289</td>\n",
       "    </tr>\n",
       "    <tr>\n",
       "      <th>3</th>\n",
       "      <td>20.595335</td>\n",
       "      <td>487.706960</td>\n",
       "    </tr>\n",
       "    <tr>\n",
       "      <th>4</th>\n",
       "      <td>11.503498</td>\n",
       "      <td>316.240194</td>\n",
       "    </tr>\n",
       "    <tr>\n",
       "      <th>...</th>\n",
       "      <td>...</td>\n",
       "      <td>...</td>\n",
       "    </tr>\n",
       "    <tr>\n",
       "      <th>495</th>\n",
       "      <td>22.274899</td>\n",
       "      <td>524.746364</td>\n",
       "    </tr>\n",
       "    <tr>\n",
       "      <th>496</th>\n",
       "      <td>32.893092</td>\n",
       "      <td>755.818399</td>\n",
       "    </tr>\n",
       "    <tr>\n",
       "      <th>497</th>\n",
       "      <td>12.588157</td>\n",
       "      <td>306.090719</td>\n",
       "    </tr>\n",
       "    <tr>\n",
       "      <th>498</th>\n",
       "      <td>22.362402</td>\n",
       "      <td>566.217304</td>\n",
       "    </tr>\n",
       "    <tr>\n",
       "      <th>499</th>\n",
       "      <td>28.957736</td>\n",
       "      <td>655.660388</td>\n",
       "    </tr>\n",
       "  </tbody>\n",
       "</table>\n",
       "<p>500 rows × 2 columns</p>\n",
       "</div>"
      ],
      "text/plain": [
       "     Temperature     Revenue\n",
       "0      24.566884  534.799028\n",
       "1      26.005191  625.190122\n",
       "2      27.790554  660.632289\n",
       "3      20.595335  487.706960\n",
       "4      11.503498  316.240194\n",
       "..           ...         ...\n",
       "495    22.274899  524.746364\n",
       "496    32.893092  755.818399\n",
       "497    12.588157  306.090719\n",
       "498    22.362402  566.217304\n",
       "499    28.957736  655.660388\n",
       "\n",
       "[500 rows x 2 columns]"
      ]
     },
     "execution_count": 3,
     "metadata": {},
     "output_type": "execute_result"
    }
   ],
   "source": [
    "df"
   ]
  },
  {
   "cell_type": "code",
   "execution_count": 4,
   "id": "ba46d0f4",
   "metadata": {},
   "outputs": [
    {
     "data": {
      "text/plain": [
       "<seaborn.axisgrid.PairGrid at 0x1e38646fdf0>"
      ]
     },
     "execution_count": 4,
     "metadata": {},
     "output_type": "execute_result"
    },
    {
     "data": {
      "image/png": "[encoded data removed]",
      "text/plain": [
       "<Figure size 360x360 with 6 Axes>"
      ]
     },
     "metadata": {
      "needs_background": "light"
     },
     "output_type": "display_data"
    }
   ],
   "source": [
    "sns.pairplot(df)"
   ]
  },
  {
   "cell_type": "code",
   "execution_count": 5,
   "id": "f773ea68",
   "metadata": {},
   "outputs": [],
   "source": [
    "x=df['Temperature']\n",
    "y=df['Revenue']\n",
    "\n"
   ]
  },
  {
   "cell_type": "code",
   "execution_count": 8,
   "id": "d801d976",
   "metadata": {},
   "outputs": [],
   "source": [
    "from sklearn.model_selection import train_test_split\n",
    "\n",
    "x_train,x_test,y_train,y_test=train_test_split(x,y,train_size=0.33,random_state=42)\n"
   ]
  },
  {
   "cell_type": "code",
   "execution_count": 10,
   "id": "e44d1d75",
   "metadata": {},
   "outputs": [
    {
     "data": {
      "text/plain": [
       "(165,)"
      ]
     },
     "execution_count": 10,
     "metadata": {},
     "output_type": "execute_result"
    }
   ],
   "source": [
    "x_train.shape"
   ]
  },
  {
   "cell_type": "code",
   "execution_count": 11,
   "id": "be7b8bd8",
   "metadata": {},
   "outputs": [
    {
     "data": {
      "text/plain": [
       "(335,)"
      ]
     },
     "execution_count": 11,
     "metadata": {},
     "output_type": "execute_result"
    }
   ],
   "source": [
    "x_test.shape"
   ]
  },
  {
   "cell_type": "code",
   "execution_count": 13,
   "id": "0b5c4b67",
   "metadata": {},
   "outputs": [
    {
     "data": {
      "text/plain": [
       "(165,)"
      ]
     },
     "execution_count": 13,
     "metadata": {},
     "output_type": "execute_result"
    }
   ],
   "source": [
    "y_train.shape"
   ]
  },
  {
   "cell_type": "code",
   "execution_count": 15,
   "id": "4d2c8123",
   "metadata": {},
   "outputs": [
    {
     "data": {
      "text/plain": [
       "(335,)"
      ]
     },
     "execution_count": 15,
     "metadata": {},
     "output_type": "execute_result"
    }
   ],
   "source": [
    "y_test.shape\n"
   ]
  },
  {
   "cell_type": "code",
   "execution_count": 16,
   "id": "609707be",
   "metadata": {},
   "outputs": [],
   "source": [
    "from sklearn.linear_model import LinearRegression"
   ]
  },
  {
   "cell_type": "code",
   "execution_count": 21,
   "id": "2f049d7d",
   "metadata": {},
   "outputs": [],
   "source": [
    "lin=LinearRegression(fit_intercept=True)"
   ]
  },
  {
   "cell_type": "code",
   "execution_count": 25,
   "id": "f3590c5c",
   "metadata": {},
   "outputs": [
    {
     "data": {
      "text/plain": [
       "LinearRegression()"
      ]
     },
     "execution_count": 25,
     "metadata": {},
     "output_type": "execute_result"
    }
   ],
   "source": [
    "lin.fit(np.array(x_train).reshape(-1,1),y_train)"
   ]
  },
  {
   "cell_type": "code",
   "execution_count": 26,
   "id": "8bf05cf7",
   "metadata": {},
   "outputs": [],
   "source": [
    "coefficient=lin.coef_"
   ]
  },
  {
   "cell_type": "code",
   "execution_count": 27,
   "id": "25b7684f",
   "metadata": {},
   "outputs": [
    {
     "data": {
      "text/plain": [
       "array([21.61701998])"
      ]
     },
     "execution_count": 27,
     "metadata": {},
     "output_type": "execute_result"
    }
   ],
   "source": [
    "coefficient"
   ]
  },
  {
   "cell_type": "code",
   "execution_count": 28,
   "id": "1cc8b362",
   "metadata": {},
   "outputs": [],
   "source": [
    "intercept=lin.intercept_"
   ]
  },
  {
   "cell_type": "code",
   "execution_count": 29,
   "id": "3718198f",
   "metadata": {},
   "outputs": [
    {
     "data": {
      "text/plain": [
       "40.5132055103345"
      ]
     },
     "execution_count": 29,
     "metadata": {},
     "output_type": "execute_result"
    }
   ],
   "source": [
    "intercept"
   ]
  },
  {
   "cell_type": "code",
   "execution_count": 32,
   "id": "da08ea1e",
   "metadata": {},
   "outputs": [],
   "source": [
    "y_predict=lin.predict(np.array(x_train).reshape(-1,1))"
   ]
  },
  {
   "cell_type": "code",
   "execution_count": 33,
   "id": "c8e83a61",
   "metadata": {},
   "outputs": [
    {
     "data": {
      "text/plain": [
       "array([741.10444715, 646.79289074, 539.59969441, 442.64922926,\n",
       "       235.47408739, 628.18941002, 281.16912765, 145.69889279,\n",
       "       605.28468687, 529.80872522, 229.78218988, 523.92170424,\n",
       "       414.47044048, 558.44212685, 604.25060861, 653.03930852,\n",
       "       355.06705052, 289.18454378, 509.68798846, 678.39243696,\n",
       "       472.36651541, 626.94250486, 495.04127411, 541.01210899,\n",
       "       365.39781464, 357.97956112, 635.61316745, 636.5584432 ,\n",
       "       290.61442383, 702.75725104, 230.54740796, 155.9137789 ,\n",
       "       493.84703536, 621.44005607, 366.99337012, 671.40689869,\n",
       "       453.6934201 , 243.78840341, 494.62291949, 520.18441375,\n",
       "       591.7403785 , 450.21022342, 468.08421055, 765.79489418,\n",
       "       534.28853765, 719.56062889, 361.87406118,  61.63022358,\n",
       "       585.8624946 , 291.16477219, 483.91368113, 167.15552862,\n",
       "       895.24820797, 448.65023809, 537.7800824 , 902.15457369,\n",
       "       894.66986211, 566.86827198, 446.41230777, 527.47439835,\n",
       "       635.88832552, 589.1626256 , 518.65370824, 546.58626252,\n",
       "       251.97912563, 478.20048498, 420.72139372, 610.34910696,\n",
       "       739.49539767, 401.60070397, 306.43746032, 513.98040381,\n",
       "       444.93470621, 576.14401873, 503.648299  , 279.98316152,\n",
       "       345.52202962, 530.20649503, 875.55409628, 319.38715732,\n",
       "       546.62271897, 415.80049551, 413.6701196 , 645.77295715,\n",
       "       864.04835698, 602.66794206, 455.62419223, 407.95691005,\n",
       "       715.59087329, 509.16797267, 386.83895097, 389.53780825,\n",
       "       810.70438828, 530.7560922 , 472.48325769, 596.45891611,\n",
       "       236.66254817, 247.11302923, 448.79735617, 659.48917855,\n",
       "       304.01209639, 664.27645591, 546.03034151, 335.03448699,\n",
       "       522.81223922, 674.00082327, 358.97134395, 590.62831793,\n",
       "       602.4691152 , 467.99299019, 538.91983481, 172.24510312,\n",
       "       742.30912498, 526.52430481, 509.86205519, 365.8044645 ,\n",
       "       263.73897079, 186.97297571, 178.72885636, 843.08982667,\n",
       "       394.59076743, 449.25838236, 696.16459108, 751.5638347 ,\n",
       "       282.35916817, 734.57259284, 309.92477029, 483.09129857,\n",
       "       682.69053283, 821.24563624, 203.9621944 , 369.40685658,\n",
       "       625.65583195, 569.80396424, 261.98082138, 525.77280295,\n",
       "       690.77671465, 468.84663917, 301.74627385, 628.24792362,\n",
       "       943.38239682, 214.1660336 , 439.62623017, 760.68417454,\n",
       "       309.48622797, 509.53299053, 304.45018065, 362.5413548 ,\n",
       "       255.69673984, 464.5932112 , 328.68117651, 804.26863849,\n",
       "       659.8233593 , 381.06667291, 911.76055934, 319.41109687,\n",
       "       666.49316998, 590.83576285, 398.40119197, 643.34943802,\n",
       "       554.16464043, 572.91039205, 865.96342262, 384.58434788,\n",
       "       349.35980554])"
      ]
     },
     "execution_count": 33,
     "metadata": {},
     "output_type": "execute_result"
    }
   ],
   "source": [
    "y_predict"
   ]
  },
  {
   "cell_type": "code",
   "execution_count": 34,
   "id": "9ba69b7c",
   "metadata": {},
   "outputs": [
    {
     "data": {
      "text/plain": [
       "<matplotlib.collections.PathCollection at 0x1e388770ca0>"
      ]
     },
     "execution_count": 34,
     "metadata": {},
     "output_type": "execute_result"
    },
    {
     "data": {
      "image/png": "[encoded data removed]",
      "text/plain": [
       "<Figure size 432x288 with 1 Axes>"
      ]
     },
     "metadata": {
      "needs_background": "light"
     },
     "output_type": "display_data"
    }
   ],
   "source": [
    "plt.scatter(x_train,y_train,color='blue')"
   ]
  },
  {
   "cell_type": "code",
   "execution_count": 38,
   "id": "f8d6471a",
   "metadata": {},
   "outputs": [
    {
     "data": {
      "text/plain": [
       "[<matplotlib.lines.Line2D at 0x1e3887cafd0>]"
      ]
     },
     "execution_count": 38,
     "metadata": {},
     "output_type": "execute_result"
    },
    {
     "data": {
      "image/png": "[encoded data removed]",
      "text/plain": [
       "<Figure size 432x288 with 1 Axes>"
      ]
     },
     "metadata": {
      "needs_background": "light"
     },
     "output_type": "display_data"
    }
   ],
   "source": [
    "plt.plot(x_train,lin.predict(np.array(x_train).reshape(-1,1)),color='red')"
   ]
  },
  {
   "cell_type": "code",
   "execution_count": 42,
   "id": "9e635caf",
   "metadata": {},
   "outputs": [],
   "source": [
    "# We can now predict the revenue for different temperatures \n",
    "\n",
    "T=10\n",
    "revenue=lin.predict(np.array(T).reshape(-1,1))"
   ]
  },
  {
   "cell_type": "code",
   "execution_count": 43,
   "id": "081ba625",
   "metadata": {},
   "outputs": [
    {
     "data": {
      "text/plain": [
       "array([256.68340526])"
      ]
     },
     "execution_count": 43,
     "metadata": {},
     "output_type": "execute_result"
    }
   ],
   "source": [
    "revenue"
   ]
  },
  {
   "cell_type": "code",
   "execution_count": null,
   "id": "382a261e",
   "metadata": {},
   "outputs": [],
   "source": []
  }
 ],
 "metadata": {
  "kernelspec": {
   "display_name": "Python 3",
   "language": "python",
   "name": "python3"
  },
  "language_info": {
   "codemirror_mode": {
    "name": "ipython",
    "version": 3
   },
   "file_extension": ".py",
   "mimetype": "text/x-python",
   "name": "python",
   "nbconvert_exporter": "python",
   "pygments_lexer": "ipython3",
   "version": "3.8.8"
  }
 },
 "nbformat": 4,
 "nbformat_minor": 5
}
